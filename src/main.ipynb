{
 "cells": [
  {
   "cell_type": "code",
   "execution_count": null,
   "id": "8e26ad05",
   "metadata": {},
   "outputs": [],
   "source": [
    "import requests\n",
    "import json"
   ]
  },
  {
   "cell_type": "code",
   "execution_count": null,
   "id": "b8fc08d5",
   "metadata": {},
   "outputs": [],
   "source": [
    "class Bot():\n",
    "    API_KEY = ''\n",
    "    user = ''\n",
    "    headers = {\n",
    "    'Authorization': f'Bearer {API_KEY}'\n",
    "    }\n",
    "    \n",
    "    def move(self, gameId, move):\n",
    "        response = requests.post(f'https://lichess.org/api/bot/game/{gameId}/move/{move}',headers=self.headers)\n",
    "        return response\n",
    "\n",
    "    def status(self, gameId):\n",
    "        response = requests.get(f'https://lichess.org/game/export/{gameId}', headers=bot.headers, params=payload)\n",
    "        #response = str(response.content)\n",
    "        return response\n",
    "    \n",
    "    def ongoing(self):\n",
    "        response = requests.get(f'https://lichess.org/api/user/{self.user}/current-game', headers=bot.headers)\n",
    "        return response\n",
    "    "
   ]
  },
  {
   "cell_type": "code",
   "execution_count": null,
   "id": "db4b79ff",
   "metadata": {
    "scrolled": false
   },
   "outputs": [],
   "source": [
    "bot = Bot()\n",
    "response = bot.ongoing()\n",
    "print(response.text)"
   ]
  }
 ],
 "metadata": {
  "kernelspec": {
   "display_name": "Python 3 (ipykernel)",
   "language": "python",
   "name": "python3"
  },
  "language_info": {
   "codemirror_mode": {
    "name": "ipython",
    "version": 3
   },
   "file_extension": ".py",
   "mimetype": "text/x-python",
   "name": "python",
   "nbconvert_exporter": "python",
   "pygments_lexer": "ipython3",
   "version": "3.9.6"
  }
 },
 "nbformat": 4,
 "nbformat_minor": 5
}
